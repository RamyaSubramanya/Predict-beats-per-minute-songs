{
 "cells": [
  {
   "cell_type": "code",
   "execution_count": 11,
   "id": "491a26cd",
   "metadata": {},
   "outputs": [],
   "source": [
    "import pandas as pd\n",
    "import numpy as np\n",
    "import matplotlib.pyplot as mp\n",
    "import seaborn as sb\n",
    "import sklearn\n",
    "import tensorflow\n",
    "from pathlib import Path\n",
    "import os\n",
    "\n",
    "from sklearn.ensemble import RandomForestRegressor, GradientBoostingRegressor\n",
    "from sklearn.linear_model import LinearRegression, LassoCV, RidgeCV\n",
    "from sklearn.metrics import mean_absolute_error, mean_absolute_percentage_error, root_mean_squared_error\n",
    "from sklearn.model_selection import GridSearchCV, train_test_split\n",
    "from xgboost import XGBRegressor\n",
    "from tensorflow.keras.models import Sequential\n",
    "from tensorflow.keras.optimizers import Adam\n",
    "from tensorflow.keras.callbacks import Callback, EarlyStopping\n",
    "from tensorflow.keras.layers import Dense, Dropout"
   ]
  },
  {
   "cell_type": "code",
   "execution_count": 26,
   "id": "467b46b2",
   "metadata": {},
   "outputs": [],
   "source": [
    "project_root = Path().resolve().parent\n",
    "# print(project_root)\n",
    "\n",
    "train_data_path = os.path.join(project_root, \"data\", \"train.csv\")\n",
    "train_data = pd.read_csv(train_data_path)\n",
    "train_data = train_data.iloc[:,1:]\n",
    "\n",
    "test_data_path = os.path.join(project_root, \"data\", \"test.csv\")\n",
    "test_data = pd.read_csv(test_data_path)\n",
    "test_data = test_data.iloc[:,1:]\n",
    "\n",
    "X = train_data.drop(columns=['BeatsPerMinute'])\n",
    "y = train_data['BeatsPerMinute']\n",
    "\n",
    "X_train, X_val, y_train, y_val = train_test_split(X, y, test_size=0.30, random_state=42)"
   ]
  },
  {
   "cell_type": "markdown",
   "id": "4cce512e",
   "metadata": {},
   "source": [
    "LinearRegression"
   ]
  },
  {
   "cell_type": "code",
   "execution_count": 74,
   "id": "b6d54049",
   "metadata": {},
   "outputs": [
    {
     "name": "stdout",
     "output_type": "stream",
     "text": [
      "Model name: LinearRegression()\n",
      "MAE:21.20 and model's predictions are off by MAPE:0.2%\n"
     ]
    }
   ],
   "source": [
    "linear_model = LinearRegression()\n",
    "print(\"Model name:\", linear_model)\n",
    "linear_model.fit(X_train, y_train)\n",
    "linear_predictions = linear_model.predict(X_val)\n",
    "linear_mae = mean_absolute_error(y_val, linear_predictions)\n",
    "linear_mape = round(mean_absolute_percentage_error(y_val, linear_predictions),2)\n",
    "print(f\"MAE:{linear_mae:.2f} and model's predictions are off by MAPE:{linear_mape}%\")"
   ]
  },
  {
   "cell_type": "markdown",
   "id": "f5ae9dc4",
   "metadata": {},
   "source": [
    "Lasso and Ridge Regression"
   ]
  },
  {
   "cell_type": "code",
   "execution_count": 75,
   "id": "f04183b1",
   "metadata": {},
   "outputs": [
    {
     "name": "stdout",
     "output_type": "stream",
     "text": [
      "Model name: RidgeCV(alphas=[0.1, 0.4, 0.6, 0.8, 0.9, 1.0, 1.5, 3.0, 4.5, 6, 8.0, 10.0],\n",
      "        cv=10)\n",
      "Best alpha value: 10.0\n",
      "MAE:21.20 and model's predictions are off by MAPE:0.2%\n",
      "\n",
      "Model name: LassoCV(alphas=[0.1, 0.4, 0.6, 0.8, 0.9, 1.0], cv=10, eps=0.5, random_state=32)\n",
      "Best alpha value: 0.1\n",
      "MAE:21.21 and model's predictions are off by MAPE:0.2%\n"
     ]
    }
   ],
   "source": [
    "#RidgeCV model\n",
    "ridge_cv_model = RidgeCV(alphas=[0.1, 0.4, 0.6, 0.8, 0.9, 1.0, 1.5, 3.0, 4.5, 6, 8.0, 10.0], cv=10)\n",
    "print(\"Model name:\", ridge_cv_model)\n",
    "\n",
    "ridge_cv_model.fit(X_train, y_train)\n",
    "print(\"Best alpha value:\", ridge_cv_model.alpha_)\n",
    "\n",
    "ridge_cv_predictions = ridge_cv_model.predict(X_val)\n",
    "\n",
    "ridge_cv_mae = mean_absolute_error(y_val, ridge_cv_predictions)\n",
    "ridge_cv_mape = round(mean_absolute_percentage_error(y_val, ridge_cv_predictions),2)\n",
    "print(f\"MAE:{ridge_cv_mae:.2f} and model's predictions are off by MAPE:{ridge_cv_mape}%\")\n",
    "print()\n",
    "\n",
    "#LassoCV model\n",
    "lasso_cv_model = LassoCV(eps=0.5, alphas=[0.1, 0.4, 0.6, 0.8, 0.9, 1.0], cv=10, random_state=32)\n",
    "print(\"Model name:\", lasso_cv_model)\n",
    "\n",
    "lasso_cv_model.fit(X_train, y_train)\n",
    "print(\"Best alpha value:\", lasso_cv_model.alpha_)\n",
    "\n",
    "lasso_cv_predictions = lasso_cv_model.predict(X_val)\n",
    "\n",
    "lasso_cv_mae = mean_absolute_error(y_val, lasso_cv_predictions)\n",
    "lasso_cv_mape = round(mean_absolute_percentage_error(y_val, lasso_cv_predictions),2)\n",
    "print(f\"MAE:{lasso_cv_mae:.2f} and model's predictions are off by MAPE:{lasso_cv_mape}%\")\n"
   ]
  },
  {
   "cell_type": "markdown",
   "id": "cd67f850",
   "metadata": {},
   "source": [
    "GradientBoosting and XGBoost"
   ]
  },
  {
   "cell_type": "code",
   "execution_count": 76,
   "id": "077969c7",
   "metadata": {},
   "outputs": [
    {
     "name": "stdout",
     "output_type": "stream",
     "text": [
      "Model name: GradientBoostingRegressor()\n",
      "MAE:21.20 and model's predictions are off by MAPE:0.2%\n"
     ]
    }
   ],
   "source": [
    "gradient_boost = GradientBoostingRegressor()\n",
    "gradient_boost.fit(X_train, y_train)\n",
    "print(\"Model name:\", gradient_boost)\n",
    "\n",
    "gradient_boost_predictions = gradient_boost.predict(X_val)\n",
    "gradient_boost_mae = mean_absolute_error(y_val, gradient_boost_predictions)\n",
    "gradient_boost_mape = round(mean_absolute_percentage_error(y_val, gradient_boost_predictions),2)\n",
    "print(f\"MAE:{gradient_boost_mae:.2f} and model's predictions are off by MAPE:{gradient_boost_mape}%\")"
   ]
  },
  {
   "cell_type": "markdown",
   "id": "bbb739f9",
   "metadata": {},
   "source": [
    "Tensorflow"
   ]
  },
  {
   "cell_type": "code",
   "execution_count": 77,
   "id": "cb20abca",
   "metadata": {},
   "outputs": [
    {
     "name": "stdout",
     "output_type": "stream",
     "text": [
      "Epoch 1/50\n",
      "\u001b[1m717/717\u001b[0m \u001b[32m━━━━━━━━━━━━━━━━━━━━\u001b[0m\u001b[37m\u001b[0m \u001b[1m3s\u001b[0m 3ms/step - loss: 1129.7933 - mae: 1129.7933 - val_loss: 39.5157 - val_mae: 39.5157\n",
      "Epoch 2/50\n",
      "\u001b[1m717/717\u001b[0m \u001b[32m━━━━━━━━━━━━━━━━━━━━\u001b[0m\u001b[37m\u001b[0m \u001b[1m2s\u001b[0m 2ms/step - loss: 41.3976 - mae: 41.3976 - val_loss: 44.4099 - val_mae: 44.4099\n",
      "Epoch 3/50\n",
      "\u001b[1m717/717\u001b[0m \u001b[32m━━━━━━━━━━━━━━━━━━━━\u001b[0m\u001b[37m\u001b[0m \u001b[1m2s\u001b[0m 2ms/step - loss: 34.2966 - mae: 34.2966 - val_loss: 29.8492 - val_mae: 29.8492\n",
      "Epoch 4/50\n",
      "\u001b[1m717/717\u001b[0m \u001b[32m━━━━━━━━━━━━━━━━━━━━\u001b[0m\u001b[37m\u001b[0m \u001b[1m2s\u001b[0m 2ms/step - loss: 30.9145 - mae: 30.9145 - val_loss: 32.6338 - val_mae: 32.6338\n",
      "Epoch 5/50\n",
      "\u001b[1m717/717\u001b[0m \u001b[32m━━━━━━━━━━━━━━━━━━━━\u001b[0m\u001b[37m\u001b[0m \u001b[1m2s\u001b[0m 2ms/step - loss: 29.8811 - mae: 29.8811 - val_loss: 29.6132 - val_mae: 29.6132\n",
      "Epoch 6/50\n",
      "\u001b[1m717/717\u001b[0m \u001b[32m━━━━━━━━━━━━━━━━━━━━\u001b[0m\u001b[37m\u001b[0m \u001b[1m2s\u001b[0m 2ms/step - loss: 28.2748 - mae: 28.2748 - val_loss: 27.5918 - val_mae: 27.5918\n",
      "Epoch 7/50\n",
      "\u001b[1m717/717\u001b[0m \u001b[32m━━━━━━━━━━━━━━━━━━━━\u001b[0m\u001b[37m\u001b[0m \u001b[1m2s\u001b[0m 2ms/step - loss: 26.7092 - mae: 26.7092 - val_loss: 25.6200 - val_mae: 25.6200\n",
      "Epoch 8/50\n",
      "\u001b[1m717/717\u001b[0m \u001b[32m━━━━━━━━━━━━━━━━━━━━\u001b[0m\u001b[37m\u001b[0m \u001b[1m2s\u001b[0m 2ms/step - loss: 23.3676 - mae: 23.3676 - val_loss: 21.5893 - val_mae: 21.5893\n",
      "Epoch 9/50\n",
      "\u001b[1m717/717\u001b[0m \u001b[32m━━━━━━━━━━━━━━━━━━━━\u001b[0m\u001b[37m\u001b[0m \u001b[1m2s\u001b[0m 2ms/step - loss: 21.2701 - mae: 21.2701 - val_loss: 21.2053 - val_mae: 21.2053\n",
      "Epoch 10/50\n",
      "\u001b[1m717/717\u001b[0m \u001b[32m━━━━━━━━━━━━━━━━━━━━\u001b[0m\u001b[37m\u001b[0m \u001b[1m2s\u001b[0m 2ms/step - loss: 21.1977 - mae: 21.1977 - val_loss: 21.2061 - val_mae: 21.2061\n",
      "Epoch 11/50\n",
      "\u001b[1m717/717\u001b[0m \u001b[32m━━━━━━━━━━━━━━━━━━━━\u001b[0m\u001b[37m\u001b[0m \u001b[1m2s\u001b[0m 2ms/step - loss: 21.1975 - mae: 21.1975 - val_loss: 21.2070 - val_mae: 21.2070\n",
      "Epoch 12/50\n",
      "\u001b[1m717/717\u001b[0m \u001b[32m━━━━━━━━━━━━━━━━━━━━\u001b[0m\u001b[37m\u001b[0m \u001b[1m2s\u001b[0m 2ms/step - loss: 21.1992 - mae: 21.1992 - val_loss: 21.2116 - val_mae: 21.2116\n",
      "Epoch 13/50\n",
      "\u001b[1m717/717\u001b[0m \u001b[32m━━━━━━━━━━━━━━━━━━━━\u001b[0m\u001b[37m\u001b[0m \u001b[1m2s\u001b[0m 2ms/step - loss: 21.1989 - mae: 21.1989 - val_loss: 21.2055 - val_mae: 21.2055\n",
      "Epoch 14/50\n",
      "\u001b[1m717/717\u001b[0m \u001b[32m━━━━━━━━━━━━━━━━━━━━\u001b[0m\u001b[37m\u001b[0m \u001b[1m2s\u001b[0m 2ms/step - loss: 21.2017 - mae: 21.2017 - val_loss: 21.2158 - val_mae: 21.2158\n",
      "Epoch 15/50\n",
      "\u001b[1m717/717\u001b[0m \u001b[32m━━━━━━━━━━━━━━━━━━━━\u001b[0m\u001b[37m\u001b[0m \u001b[1m2s\u001b[0m 2ms/step - loss: 21.2041 - mae: 21.2041 - val_loss: 21.2060 - val_mae: 21.2060\n",
      "Epoch 16/50\n",
      "\u001b[1m717/717\u001b[0m \u001b[32m━━━━━━━━━━━━━━━━━━━━\u001b[0m\u001b[37m\u001b[0m \u001b[1m2s\u001b[0m 2ms/step - loss: 21.2054 - mae: 21.2054 - val_loss: 21.2055 - val_mae: 21.2055\n",
      "Epoch 17/50\n",
      "\u001b[1m717/717\u001b[0m \u001b[32m━━━━━━━━━━━━━━━━━━━━\u001b[0m\u001b[37m\u001b[0m \u001b[1m2s\u001b[0m 2ms/step - loss: 21.2084 - mae: 21.2084 - val_loss: 21.2292 - val_mae: 21.2292\n",
      "Epoch 18/50\n",
      "\u001b[1m717/717\u001b[0m \u001b[32m━━━━━━━━━━━━━━━━━━━━\u001b[0m\u001b[37m\u001b[0m \u001b[1m2s\u001b[0m 2ms/step - loss: 21.2128 - mae: 21.2128 - val_loss: 21.2362 - val_mae: 21.2362\n",
      "Epoch 19/50\n",
      "\u001b[1m717/717\u001b[0m \u001b[32m━━━━━━━━━━━━━━━━━━━━\u001b[0m\u001b[37m\u001b[0m \u001b[1m2s\u001b[0m 2ms/step - loss: 21.2186 - mae: 21.2186 - val_loss: 21.2073 - val_mae: 21.2073\n",
      "Epoch 20/50\n",
      "\u001b[1m717/717\u001b[0m \u001b[32m━━━━━━━━━━━━━━━━━━━━\u001b[0m\u001b[37m\u001b[0m \u001b[1m2s\u001b[0m 2ms/step - loss: 21.2241 - mae: 21.2241 - val_loss: 21.2554 - val_mae: 21.2554\n",
      "Epoch 21/50\n",
      "\u001b[1m717/717\u001b[0m \u001b[32m━━━━━━━━━━━━━━━━━━━━\u001b[0m\u001b[37m\u001b[0m \u001b[1m2s\u001b[0m 3ms/step - loss: 21.2291 - mae: 21.2291 - val_loss: 21.2292 - val_mae: 21.2292\n",
      "Epoch 22/50\n",
      "\u001b[1m717/717\u001b[0m \u001b[32m━━━━━━━━━━━━━━━━━━━━\u001b[0m\u001b[37m\u001b[0m \u001b[1m2s\u001b[0m 2ms/step - loss: 21.2298 - mae: 21.2298 - val_loss: 21.2075 - val_mae: 21.2075\n",
      "Epoch 23/50\n",
      "\u001b[1m717/717\u001b[0m \u001b[32m━━━━━━━━━━━━━━━━━━━━\u001b[0m\u001b[37m\u001b[0m \u001b[1m2s\u001b[0m 3ms/step - loss: 21.2220 - mae: 21.2220 - val_loss: 21.2230 - val_mae: 21.2230\n",
      "Epoch 24/50\n",
      "\u001b[1m717/717\u001b[0m \u001b[32m━━━━━━━━━━━━━━━━━━━━\u001b[0m\u001b[37m\u001b[0m \u001b[1m2s\u001b[0m 3ms/step - loss: 21.2376 - mae: 21.2376 - val_loss: 21.2113 - val_mae: 21.2113\n",
      "\u001b[1m4915/4915\u001b[0m \u001b[32m━━━━━━━━━━━━━━━━━━━━\u001b[0m\u001b[37m\u001b[0m \u001b[1m4s\u001b[0m 744us/step\n",
      "MAE:21.21 and model's predictions are off by MAPE:0.2%\n"
     ]
    }
   ],
   "source": [
    "model = Sequential()\n",
    "model.add(Dense(units=60, activation='relu'))\n",
    "model.add(Dense(units=40))\n",
    "model.add(Dense(units=1))\n",
    "\n",
    "model.compile(optimizer=Adam(learning_rate=0.01), loss='mae', metrics=['mae'])\n",
    "\n",
    "model.fit(X_train, \n",
    "          y_train, \n",
    "          batch_size=512, \n",
    "          epochs=50, \n",
    "          validation_data=(X_val, y_val),\n",
    "          callbacks=EarlyStopping(monitor='val_loss', patience=15, mode='min', restore_best_weights=True), \n",
    "          verbose=1)\n",
    "\n",
    "neural_network_predictions = model.predict(X_val)\n",
    "\n",
    "neural_network_mae = mean_absolute_error(y_val, neural_network_predictions)\n",
    "neural_network_mape = round(mean_absolute_percentage_error(y_val, neural_network_predictions),2)\n",
    "print(f\"MAE:{neural_network_mae:.2f} and model's predictions are off by MAPE:{neural_network_mape}%\")"
   ]
  },
  {
   "cell_type": "markdown",
   "id": "01235447",
   "metadata": {},
   "source": [
    "MonteCarlo"
   ]
  },
  {
   "cell_type": "code",
   "execution_count": 80,
   "id": "d6f38306",
   "metadata": {},
   "outputs": [
    {
     "name": "stdout",
     "output_type": "stream",
     "text": [
      "[21.228402869035687, 21.224508351201536, 21.193057752265872, 21.19017205235903, 21.176995661106766, 21.129580166202256, 21.26433336104149, 21.25399601879798, 21.199790443276136, 21.2044180548612, 21.268340330799113, 21.200315788258745, 21.167092602455025, 21.21462549251294, 21.206749866519743, 21.15743414592626, 21.196793469334335, 21.212244810516946, 21.208623458901705, 21.14924610892513, 21.202395301441484, 21.212838000559966, 21.198992725295973, 21.2084324105051, 21.156079287494535, 21.222035358823316, 21.253925557402393, 21.19335720160567, 21.222273394789173, 21.134154197572965, 21.279609084723933, 21.152932556808505, 21.195886365515648, 21.219058832857385, 21.214067865201365, 21.214510975152116, 21.1888405802031, 21.197595633410266, 21.229697552575857, 21.215387789852205, 21.27114792137005, 21.182388069054007, 21.17549914387814, 21.118858349912195, 21.188204166875426, 21.132944836361457, 21.137505157354, 21.193267768366287, 21.231440802167782, 21.22234776833173, 21.237656091131672, 21.19920460184792, 21.180109660815052, 21.223001379037594, 21.206404094637843, 21.18778199994906, 21.23646082369024, 21.17615950914759, 21.14324656077095, 21.204926126397154, 21.200427984676036, 21.22037259796424, 21.191631741236453, 21.131430960503184, 21.163037493021598, 21.18896261713033, 21.176258687872508, 21.236222825653446, 21.165010514244987, 21.203258686794584, 21.13042632513338, 21.209221307412875, 21.20681833310698, 21.26459001402987, 21.10563923942299, 21.15333748174471, 21.216857693751237, 21.163316870297372, 21.251939048937864, 21.17059200114883, 21.20718391593933, 21.1430884680257, 21.155778157847525, 21.199270188977025, 21.212153231302448, 21.141715330510767, 21.1827820860729, 21.12972584249426, 21.229102721252417, 21.14827425772626, 21.191824559075933, 21.201400744574887, 21.25684976340365, 21.144165145346772, 21.179852759536047, 21.24667515237915, 21.224015452348574, 21.233213603164003, 21.178179596156344, 21.232044650863255]\n",
      "Mean of MAE is 21.195939943582662\n"
     ]
    }
   ],
   "source": [
    "n_simulations = 100\n",
    "mae_list = []\n",
    "\n",
    "for i in range(n_simulations):\n",
    "    #split the data randomly in each iteration\n",
    "    X_train, X_val, y_train, y_val = train_test_split(X, y, test_size=0.30)\n",
    "    \n",
    "    #build model and fit training data\n",
    "    model = LinearRegression()\n",
    "    model.fit(X_train, y_train)\n",
    "    \n",
    "    #make predictions\n",
    "    predictions = model.predict(X_val)\n",
    "    \n",
    "    #error metrics\n",
    "    mae = mean_absolute_error(y_val, predictions)\n",
    "    mae_list.append(mae)\n",
    "    \n",
    "print(mae_list)\n",
    "\n",
    "average_mae = np.mean(mae_list)\n",
    "print(f\"Mean of MAE is {average_mae}\")"
   ]
  },
  {
   "cell_type": "markdown",
   "id": "5b7f0339",
   "metadata": {},
   "source": [
    "Make predictions on actual test data using the best fit model"
   ]
  },
  {
   "cell_type": "code",
   "execution_count": null,
   "id": "a3252662",
   "metadata": {},
   "outputs": [],
   "source": [
    "test_data_predictions = pd.DataFrame(linear_model.predict(test_data))\n",
    "\n",
    "submission_file = pd.read_csv(\"sample_submission.csv\")\n",
    "submission_file = submission_file.iloc[:,1]\n",
    "\n",
    "final_predictions = pd.concat([submission_file, test_data_predictions], axis=1, ignore_index=True)\n",
    "final_predictions.columns = [['id', 'BeatsPerMinute']]\n",
    "\n",
    "final_predictions.to_csv(\"predictions.csv\", index=False)"
   ]
  }
 ],
 "metadata": {
  "kernelspec": {
   "display_name": "venv",
   "language": "python",
   "name": "python3"
  },
  "language_info": {
   "codemirror_mode": {
    "name": "ipython",
    "version": 3
   },
   "file_extension": ".py",
   "mimetype": "text/x-python",
   "name": "python",
   "nbconvert_exporter": "python",
   "pygments_lexer": "ipython3",
   "version": "3.10.10"
  }
 },
 "nbformat": 4,
 "nbformat_minor": 5
}
